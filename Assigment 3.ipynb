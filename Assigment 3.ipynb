{
 "cells": [
  {
   "cell_type": "code",
   "execution_count": 10,
   "id": "e10e6a01",
   "metadata": {},
   "outputs": [],
   "source": [
    "import math\n",
    "import numpy as np\n",
    "from sklearn import datasets\n",
    "\n",
    "from sklearn.model_selection import train_test_split\n",
    "from sklearn.preprocessing import PolynomialFeatures\n",
    "from sklearn.model_selection import KFold\n",
    "from sklearn.decomposition import PCA\n",
    "\n",
    "import matplotlib.pyplot as plt"
   ]
  },
  {
   "cell_type": "code",
   "execution_count": 2,
   "id": "f65bac4a",
   "metadata": {},
   "outputs": [],
   "source": [
    "def sigmoid(gamma):\n",
    "    if gamma < 0:\n",
    "        return 1 - 1 / (1 + math.exp(gamma))\n",
    "    return 1 / (1 + math.exp(-gamma))"
   ]
  },
  {
   "cell_type": "code",
   "execution_count": 3,
   "id": "7f8ab3c5",
   "metadata": {},
   "outputs": [],
   "source": [
    "def Log_fit(X_train,y_train,l_rate, lamda,iter):\n",
    "    #the algorithm is borrowed from the Lecture slide of Logistic Regression, with the addition of regularizer\n",
    "    wt = X_train[0]\n",
    "\n",
    "    for i in range(iter):\n",
    "        D_Ein = 0\n",
    "        \n",
    "        for j in range(len(X_train)):\n",
    "\n",
    "            y_wt = -y_train[j] * wt\n",
    "            \n",
    "            sig_input = np.dot(y_wt, X_train[j])  \n",
    "            \n",
    "            sig_output = sigmoid(sig_input)\n",
    "\n",
    "            yn = -1 * y_train[j]\n",
    "            \n",
    "            y_x_n = yn * X_train[j]\n",
    "                               \n",
    "            D_Ein += (sig_output * y_x_n)\n",
    "\n",
    "        D_Ein /= len(X_train)\n",
    "        \n",
    "        D_Ein += ((2 * lamda * wt)/len(X_train)) #adding the regularizer\n",
    "      \n",
    "        \n",
    "        wt = wt - (l_rate * D_Ein)\n",
    "        \n",
    "    return wt         "
   ]
  },
  {
   "cell_type": "code",
   "execution_count": 4,
   "id": "d0fa7d15",
   "metadata": {},
   "outputs": [],
   "source": [
    "def sigmoid_array(array):\n",
    "    for i in range(len(array)):\n",
    "        array[i] = sigmoid(array[i])\n",
    "    return array.astype(int)"
   ]
  },
  {
   "cell_type": "code",
   "execution_count": 5,
   "id": "c3625d9e",
   "metadata": {},
   "outputs": [],
   "source": [
    "def binary_classifier(array, threshold):\n",
    "    for j in range(len(array)):\n",
    "        if (array[j] - threshold) < 0:\n",
    "            array[j] = -1\n",
    "        else: array[j] = 1\n",
    "    return array"
   ]
  },
  {
   "cell_type": "code",
   "execution_count": 6,
   "id": "e6199030",
   "metadata": {},
   "outputs": [],
   "source": [
    "def error_rate(array, y):\n",
    "    mist_count = 0\n",
    "    for k in range(len(array)):\n",
    "        if array[k] != y[k]:\n",
    "            mist_count += 1\n",
    "    return mist_count/len(array)"
   ]
  },
  {
   "cell_type": "code",
   "execution_count": 21,
   "id": "43c6bf9c",
   "metadata": {},
   "outputs": [],
   "source": [
    "def main():\n",
    "    breast_cancer = datasets.load_breast_cancer() #loading the breast cancer dataset\n",
    "    breast_cancer.target[breast_cancer.target == 0] = -1 #to perform gradient descent\n",
    "    \n",
    "    trans = PolynomialFeatures(degree=2)    \n",
    "    breast_cancer.data = trans.fit_transform(breast_cancer.data)\n",
    "    \n",
    "    \n",
    "#     pca = PCA(n_components = 0.95)\n",
    "#     breast_cancer.data = pca.fit_transform(breast_cancer.data)\n",
    "    \n",
    "#     print(pca.explained_variance_ratio_)\n",
    "    print(breast_cancer.data.shape)\n",
    "    \n",
    "    reg_array = [0, 0.001, 0.01, 0.1, 1.0] #set of regularizer to experiment on\n",
    "    \n",
    "    E_in_array = np.zeros(len(reg_array)) #to store the E_in during the 5 cross validation\n",
    "    E_val_array = np.zeros(len(reg_array))  #to store the E_valduring the 5 cross validation\n",
    "    \n",
    "    k = 5 # 5 fold validation\n",
    "    kf = KFold(n_splits=k)\n",
    "    \n",
    "    for i in range(len(reg_array)):\n",
    "        \n",
    "        E_in = 0\n",
    "        E_val = 0\n",
    "    \n",
    "        for train_index, test_index in kf.split(breast_cancer.data):            \n",
    "            X_train, X_test = breast_cancer.data[train_index], breast_cancer.data[test_index] \n",
    "            y_train, y_test = breast_cancer.target[train_index], breast_cancer.target[test_index]\n",
    " \n",
    "\n",
    "            wt = Log_fit(X_train, y_train, 0.001, reg_array[i], 10000)#training phase(optimizing weight vector)\n",
    "    \n",
    "            \n",
    "            in_sample_pred = np.dot(X_train, wt) #get the dot product of feature vector with the weight vector\n",
    "            \n",
    "            in_sample_pred = sigmoid_array(in_sample_pred) #passing elements of the matrix, to the sigmoid function\n",
    "            \n",
    "            in_sample_pred = binary_classifier(in_sample_pred, 0.5) #binary classificaiton using logistic regression\n",
    "            \n",
    "            \n",
    "            E_in += error_rate(in_sample_pred, y_train) #  summing up the in sample error\n",
    "            \n",
    "            \n",
    "            \n",
    "            val_sample_pred = np.dot(X_test, wt) #get the dot product of feature vector with the weight vector\n",
    "            \n",
    "            val_sample_pred = sigmoid_array(val_sample_pred) #passing elements of the matrix, to the sigmoid function\n",
    "            \n",
    "            val_sample_pred = binary_classifier(val_sample_pred, 0.5) #binary classificaiton using logistic regression\n",
    "            \n",
    "\n",
    "            E_val += error_rate(val_sample_pred, y_test) #summing up the validation error\n",
    "        \n",
    "        E_in /= k #weighted average of the in sample error\n",
    "        E_in_array[i] = E_in\n",
    "        \n",
    "        E_val /= k\n",
    "        E_val_array[i] = E_val #weighted average of the validation error\n",
    "    \n",
    "    plt.plot(reg_array, E_in_array, label = \"In sample error\")\n",
    "    plt.plot(reg_array, E_val_array, label = \"Validation sample error\")  \n",
    "    \n",
    "    plt.legend()\n",
    "    plt.xlabel('Regularizer', fontsize=14)\n",
    "    plt.ylabel('Error rate', fontsize=14)\n",
    "    plt.show()\n",
    "    \n",
    "    print(\"E_in sample array:\", E_in_array)\n",
    "    print(\"E_val array:\", E_val_array)\n",
    "    print(\"Regularizer array: \", reg_array)"
   ]
  },
  {
   "cell_type": "code",
   "execution_count": null,
   "id": "05b62b13",
   "metadata": {},
   "outputs": [],
   "source": [
    "if __name__ == \"__main__\": main()"
   ]
  }
 ],
 "metadata": {
  "kernelspec": {
   "display_name": "Python 3 (ipykernel)",
   "language": "python",
   "name": "python3"
  },
  "language_info": {
   "codemirror_mode": {
    "name": "ipython",
    "version": 3
   },
   "file_extension": ".py",
   "mimetype": "text/x-python",
   "name": "python",
   "nbconvert_exporter": "python",
   "pygments_lexer": "ipython3",
   "version": "3.10.1"
  }
 },
 "nbformat": 4,
 "nbformat_minor": 5
}
